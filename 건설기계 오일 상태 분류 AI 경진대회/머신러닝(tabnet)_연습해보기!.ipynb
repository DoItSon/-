{
  "cells": [
    {
      "cell_type": "markdown",
      "metadata": {
        "id": "view-in-github",
        "colab_type": "text"
      },
      "source": [
        "<a href=\"https://colab.research.google.com/github/DoItSon/Dacon/blob/main/%EA%B1%B4%EC%84%A4%EA%B8%B0%EA%B3%84%20%EC%98%A4%EC%9D%BC%20%EC%83%81%ED%83%9C%20%EB%B6%84%EB%A5%98%20AI%20%EA%B2%BD%EC%A7%84%EB%8C%80%ED%9A%8C/%EB%A8%B8%EC%8B%A0%EB%9F%AC%EB%8B%9D(tabnet)_%EC%97%B0%EC%8A%B5%ED%95%B4%EB%B3%B4%EA%B8%B0!.ipynb\" target=\"_parent\"><img src=\"https://colab.research.google.com/assets/colab-badge.svg\" alt=\"Open In Colab\"/></a>"
      ]
    },
    {
      "cell_type": "markdown",
      "metadata": {
        "id": "xX-n2cazCX3m"
      },
      "source": [
        "# 메모장\n",
        "- 0.8189379090413184 = 0.5\n",
        "- 0.8236173245493615 = 0.4\n",
        "- 0.8236625863676823 = 0.3\n",
        "- 0.8256464235755943 = 0.35\n",
        "\n",
        "- 0.823185924948775 머신러닝 결측치\n",
        "- 0.8247486240372479 내 결측치\n",
        "\n",
        "- 추후 베이지안 최저화를 통해 최적의 파라미터 찾기!"
      ]
    },
    {
      "cell_type": "code",
      "execution_count": 1,
      "metadata": {
        "colab": {
          "base_uri": "https://localhost:8080/"
        },
        "id": "H2VVk8-tBkIM",
        "outputId": "3277bd33-bb38-4b19-d5d9-5754dc36091c"
      },
      "outputs": [
        {
          "output_type": "stream",
          "name": "stdout",
          "text": [
            "Looking in indexes: https://pypi.org/simple, https://us-python.pkg.dev/colab-wheels/public/simple/\n",
            "Collecting pytorch-tabnet\n",
            "  Downloading pytorch_tabnet-4.0-py3-none-any.whl (41 kB)\n",
            "\u001b[K     |████████████████████████████████| 41 kB 712 kB/s \n",
            "\u001b[?25hRequirement already satisfied: numpy<2.0,>=1.17 in /usr/local/lib/python3.8/dist-packages (from pytorch-tabnet) (1.21.6)\n",
            "Requirement already satisfied: scikit_learn>0.21 in /usr/local/lib/python3.8/dist-packages (from pytorch-tabnet) (1.0.2)\n",
            "Requirement already satisfied: torch<2.0,>=1.2 in /usr/local/lib/python3.8/dist-packages (from pytorch-tabnet) (1.13.0+cu116)\n",
            "Requirement already satisfied: tqdm<5.0,>=4.36 in /usr/local/lib/python3.8/dist-packages (from pytorch-tabnet) (4.64.1)\n",
            "Requirement already satisfied: scipy>1.4 in /usr/local/lib/python3.8/dist-packages (from pytorch-tabnet) (1.7.3)\n",
            "Requirement already satisfied: joblib>=0.11 in /usr/local/lib/python3.8/dist-packages (from scikit_learn>0.21->pytorch-tabnet) (1.2.0)\n",
            "Requirement already satisfied: threadpoolctl>=2.0.0 in /usr/local/lib/python3.8/dist-packages (from scikit_learn>0.21->pytorch-tabnet) (3.1.0)\n",
            "Requirement already satisfied: typing-extensions in /usr/local/lib/python3.8/dist-packages (from torch<2.0,>=1.2->pytorch-tabnet) (4.4.0)\n",
            "Installing collected packages: pytorch-tabnet\n",
            "Successfully installed pytorch-tabnet-4.0\n"
          ]
        }
      ],
      "source": [
        "!pip install pytorch-tabnet"
      ]
    },
    {
      "cell_type": "code",
      "execution_count": 2,
      "metadata": {
        "id": "YgdtIy8Nuorh"
      },
      "outputs": [],
      "source": [
        "import torch\n",
        "import torch.nn as nn\n",
        "import torch.nn.functional as F\n",
        "import torch.optim as optim\n",
        "from torch.utils.data import DataLoader, Dataset\n",
        "\n",
        "from sklearn.preprocessing import StandardScaler\n",
        "from sklearn.preprocessing import MinMaxScaler\n",
        "from sklearn.preprocessing import OneHotEncoder\n",
        "from sklearn.preprocessing import LabelEncoder\n",
        "from sklearn.model_selection import train_test_split\n",
        "\n",
        "import os\n",
        "import pandas as pd\n",
        "import numpy as np\n",
        "import matplotlib.pyplot as plt\n",
        "from tqdm.auto import tqdm\n",
        "import random\n",
        "\n",
        "from sklearn.model_selection import KFold\n",
        "from sklearn.model_selection import cross_val_score\n",
        "from sklearn.metrics import f1_score\n",
        "from sklearn.feature_selection import SelectPercentile\n",
        "\n",
        "from pytorch_tabnet.tab_model  import TabNetClassifier, TabNetRegressor\n",
        "from pytorch_tabnet.metrics import Metric\n",
        "from sklearn.ensemble import GradientBoostingRegressor\n",
        "from sklearn.tree import DecisionTreeRegressor\n",
        "from sklearn.linear_model import LogisticRegression\n",
        "from sklearn.ensemble import RandomForestClassifier\n",
        "from sklearn.neural_network import MLPClassifier\n",
        "import lightgbm as lgb\n",
        "from lightgbm import LGBMClassifier\n",
        "from xgboost import XGBClassifier\n",
        "import xgboost as xgb\n",
        "\n",
        "from sklearn.experimental import enable_iterative_imputer\n",
        "from sklearn.impute import IterativeImputer\n",
        "\n",
        "\n",
        "from sklearn.metrics import accuracy_score\n",
        "from sklearn.metrics import explained_variance_score, r2_score, mean_absolute_error\n",
        "\n",
        "import warnings\n",
        "warnings.filterwarnings(action='ignore') \n",
        "\n",
        "device = torch.device('cuda') if torch.cuda.is_available() else torch.device('cpu')"
      ]
    },
    {
      "cell_type": "code",
      "execution_count": 3,
      "metadata": {
        "colab": {
          "base_uri": "https://localhost:8080/"
        },
        "id": "SDjHDXlczZEC",
        "outputId": "49057308-e959-4863-bb64-16bc03854e08"
      },
      "outputs": [
        {
          "output_type": "stream",
          "name": "stdout",
          "text": [
            "Looking in indexes: https://pypi.org/simple, https://us-python.pkg.dev/colab-wheels/public/simple/\n",
            "Collecting optuna\n",
            "  Downloading optuna-3.0.5-py3-none-any.whl (348 kB)\n",
            "\u001b[K     |████████████████████████████████| 348 kB 32.3 MB/s \n",
            "\u001b[?25hCollecting importlib-metadata<5.0.0\n",
            "  Downloading importlib_metadata-4.13.0-py3-none-any.whl (23 kB)\n",
            "Requirement already satisfied: packaging>=20.0 in /usr/local/lib/python3.8/dist-packages (from optuna) (21.3)\n",
            "Requirement already satisfied: scipy<1.9.0,>=1.7.0 in /usr/local/lib/python3.8/dist-packages (from optuna) (1.7.3)\n",
            "Collecting colorlog\n",
            "  Downloading colorlog-6.7.0-py2.py3-none-any.whl (11 kB)\n",
            "Collecting cliff\n",
            "  Downloading cliff-4.1.0-py3-none-any.whl (81 kB)\n",
            "\u001b[K     |████████████████████████████████| 81 kB 12.3 MB/s \n",
            "\u001b[?25hRequirement already satisfied: numpy in /usr/local/lib/python3.8/dist-packages (from optuna) (1.21.6)\n",
            "Requirement already satisfied: sqlalchemy>=1.3.0 in /usr/local/lib/python3.8/dist-packages (from optuna) (1.4.45)\n",
            "Collecting alembic>=1.5.0\n",
            "  Downloading alembic-1.9.1-py3-none-any.whl (210 kB)\n",
            "\u001b[K     |████████████████████████████████| 210 kB 57.4 MB/s \n",
            "\u001b[?25hRequirement already satisfied: PyYAML in /usr/local/lib/python3.8/dist-packages (from optuna) (6.0)\n",
            "Requirement already satisfied: tqdm in /usr/local/lib/python3.8/dist-packages (from optuna) (4.64.1)\n",
            "Collecting cmaes>=0.8.2\n",
            "  Downloading cmaes-0.9.0-py3-none-any.whl (23 kB)\n",
            "Collecting Mako\n",
            "  Downloading Mako-1.2.4-py3-none-any.whl (78 kB)\n",
            "\u001b[K     |████████████████████████████████| 78 kB 10.5 MB/s \n",
            "\u001b[?25hRequirement already satisfied: importlib-resources in /usr/local/lib/python3.8/dist-packages (from alembic>=1.5.0->optuna) (5.10.1)\n",
            "Requirement already satisfied: zipp>=0.5 in /usr/local/lib/python3.8/dist-packages (from importlib-metadata<5.0.0->optuna) (3.11.0)\n",
            "Requirement already satisfied: pyparsing!=3.0.5,>=2.0.2 in /usr/local/lib/python3.8/dist-packages (from packaging>=20.0->optuna) (3.0.9)\n",
            "Requirement already satisfied: greenlet!=0.4.17 in /usr/local/lib/python3.8/dist-packages (from sqlalchemy>=1.3.0->optuna) (2.0.1)\n",
            "Collecting stevedore>=2.0.1\n",
            "  Downloading stevedore-4.1.1-py3-none-any.whl (50 kB)\n",
            "\u001b[K     |████████████████████████████████| 50 kB 6.1 MB/s \n",
            "\u001b[?25hCollecting cmd2>=1.0.0\n",
            "  Downloading cmd2-2.4.2-py3-none-any.whl (147 kB)\n",
            "\u001b[K     |████████████████████████████████| 147 kB 73.2 MB/s \n",
            "\u001b[?25hRequirement already satisfied: PrettyTable>=0.7.2 in /usr/local/lib/python3.8/dist-packages (from cliff->optuna) (3.5.0)\n",
            "Collecting autopage>=0.4.0\n",
            "  Downloading autopage-0.5.1-py3-none-any.whl (29 kB)\n",
            "Collecting pyperclip>=1.6\n",
            "  Downloading pyperclip-1.8.2.tar.gz (20 kB)\n",
            "Requirement already satisfied: attrs>=16.3.0 in /usr/local/lib/python3.8/dist-packages (from cmd2>=1.0.0->cliff->optuna) (22.1.0)\n",
            "Requirement already satisfied: wcwidth>=0.1.7 in /usr/local/lib/python3.8/dist-packages (from cmd2>=1.0.0->cliff->optuna) (0.2.5)\n",
            "Collecting pbr!=2.1.0,>=2.0.0\n",
            "  Downloading pbr-5.11.0-py2.py3-none-any.whl (112 kB)\n",
            "\u001b[K     |████████████████████████████████| 112 kB 63.3 MB/s \n",
            "\u001b[?25hRequirement already satisfied: MarkupSafe>=0.9.2 in /usr/local/lib/python3.8/dist-packages (from Mako->alembic>=1.5.0->optuna) (2.0.1)\n",
            "Building wheels for collected packages: pyperclip\n",
            "  Building wheel for pyperclip (setup.py) ... \u001b[?25l\u001b[?25hdone\n",
            "  Created wheel for pyperclip: filename=pyperclip-1.8.2-py3-none-any.whl size=11136 sha256=11ef3a0e67f54c16ab5079956be7a7290884e5ac49c08cd652920250273f7b0d\n",
            "  Stored in directory: /root/.cache/pip/wheels/7f/1a/65/84ff8c386bec21fca6d220ea1f5498a0367883a78dd5ba6122\n",
            "Successfully built pyperclip\n",
            "Installing collected packages: pyperclip, pbr, stevedore, Mako, importlib-metadata, cmd2, autopage, colorlog, cmaes, cliff, alembic, optuna\n",
            "  Attempting uninstall: importlib-metadata\n",
            "    Found existing installation: importlib-metadata 5.1.0\n",
            "    Uninstalling importlib-metadata-5.1.0:\n",
            "      Successfully uninstalled importlib-metadata-5.1.0\n",
            "Successfully installed Mako-1.2.4 alembic-1.9.1 autopage-0.5.1 cliff-4.1.0 cmaes-0.9.0 cmd2-2.4.2 colorlog-6.7.0 importlib-metadata-4.13.0 optuna-3.0.5 pbr-5.11.0 pyperclip-1.8.2 stevedore-4.1.1\n"
          ]
        }
      ],
      "source": [
        "!pip install optuna"
      ]
    },
    {
      "cell_type": "code",
      "execution_count": 4,
      "metadata": {
        "id": "yMpWlRFlzWYJ"
      },
      "outputs": [],
      "source": [
        "import optuna"
      ]
    },
    {
      "cell_type": "code",
      "execution_count": 5,
      "metadata": {
        "colab": {
          "base_uri": "https://localhost:8080/"
        },
        "id": "osqF88dHvWOz",
        "outputId": "26c5ab2d-c718-4bd2-d23b-570b0bc25580"
      },
      "outputs": [
        {
          "output_type": "stream",
          "name": "stdout",
          "text": [
            "Mounted at /content/drive\n"
          ]
        }
      ],
      "source": [
        "from google.colab import drive\n",
        "drive.mount('/content/drive')"
      ]
    },
    {
      "cell_type": "code",
      "execution_count": 6,
      "metadata": {
        "id": "bd8gPQ0mP0cU"
      },
      "outputs": [],
      "source": [
        "DATA_PATH = \"/content/drive/MyDrive/\""
      ]
    },
    {
      "cell_type": "code",
      "execution_count": 7,
      "metadata": {
        "id": "TU7N5vbvuq-z"
      },
      "outputs": [],
      "source": [
        "train = pd.read_csv(f'{DATA_PATH}train.csv')\n",
        "test = pd.read_csv(f'{DATA_PATH}test.csv')"
      ]
    },
    {
      "cell_type": "code",
      "execution_count": 8,
      "metadata": {
        "id": "r7SdMupLqn1U"
      },
      "outputs": [],
      "source": [
        "categorical_features_enc = ['COMPONENT_ARBITRARY_COMPONENT1',\n",
        "       'COMPONENT_ARBITRARY_COMPONENT2', 'COMPONENT_ARBITRARY_COMPONENT3',\n",
        "       'COMPONENT_ARBITRARY_COMPONENT4', 'YEAR_2007', 'YEAR_2008', 'YEAR_2009',\n",
        "       'YEAR_2010', 'YEAR_2011', 'YEAR_2012', 'YEAR_2013', 'YEAR_2014',\n",
        "       'YEAR_2015', 'YEAR_2016', 'YEAR_2017', 'YEAR_2018', 'YEAR_2019',\n",
        "       'YEAR_2020', 'YEAR_2021', 'YEAR_2022']\n",
        "# Inference(실제 진단 환경)에 사용하는 컬럼\n",
        "test_stage_features_enc = ['ANONYMOUS_1', 'SAMPLE_TRANSFER_DAY', 'ANONYMOUS_2', 'AG', 'AL', 'B',\n",
        "       'BA', 'BE', 'CA', 'CO', 'CR', 'CU', 'FE', 'H2O', 'LI', 'MG', 'MN', 'MO',\n",
        "       'NA', 'NI', 'P', 'PB', 'PQINDEX', 'S', 'SB', 'SI', 'SN', 'TI', 'V',\n",
        "       'V40', 'ZN', 'CD', 'FH2O', 'FNOX', 'FOPTIMETHGLY', 'FOXID', 'FSO4',\n",
        "       'FTBN', 'FUEL', 'K', 'SOOTPERCENTAGE', 'U100', 'U75', 'U50', 'U25',\n",
        "       'U20', 'U14', 'U6', 'U4', 'V100', 'COMPONENT_ARBITRARY_COMPONENT1',\n",
        "       'COMPONENT_ARBITRARY_COMPONENT2', 'COMPONENT_ARBITRARY_COMPONENT3',\n",
        "       'COMPONENT_ARBITRARY_COMPONENT4', 'YEAR_2007', 'YEAR_2008', 'YEAR_2009',\n",
        "       'YEAR_2010', 'YEAR_2011', 'YEAR_2012', 'YEAR_2013', 'YEAR_2014',\n",
        "       'YEAR_2015', 'YEAR_2016', 'YEAR_2017', 'YEAR_2018', 'YEAR_2019',\n",
        "       'YEAR_2020', 'YEAR_2021', 'YEAR_2022']"
      ]
    },
    {
      "cell_type": "markdown",
      "metadata": {
        "id": "fT4y7j-0eFEK"
      },
      "source": [
        "## 전처리"
      ]
    },
    {
      "cell_type": "code",
      "execution_count": 9,
      "metadata": {
        "id": "cuVl-N5cvnXH"
      },
      "outputs": [],
      "source": [
        "CFG = {\n",
        "    'n_splits':5,\n",
        "    'SEED':42\n",
        "}"
      ]
    },
    {
      "cell_type": "markdown",
      "metadata": {
        "id": "cOm4QIX7I6gX"
      },
      "source": [
        "- 머신러닝 결측치"
      ]
    },
    {
      "cell_type": "code",
      "source": [
        "cols = ['CD','FOPTIMETHGLY',\"FUEL\",'K','U100','U75','U50',\"FH2O\",\"FNOX\",\"FOXID\",\"FSO4\",\"FTBN\",\"SOOTPERCENTAGE\",\"U25\",\"U20\",\"U14\",\"U6\",\"U4\",\"V100\"]"
      ],
      "metadata": {
        "id": "fc2jQQ0Oz9Ki"
      },
      "execution_count": 10,
      "outputs": []
    },
    {
      "cell_type": "code",
      "source": [
        "for i in cols:\n",
        "    imputer = IterativeImputer(estimator =  lgb.LGBMRegressor(),random_state=CFG[\"SEED\"]) # IterativeImputer에서 다양한 옵션이 있다. (estimator는 머신러닝 옵션!)\n",
        "    train[i] = imputer.fit_transform(train[[i]])"
      ],
      "metadata": {
        "id": "hNQmN8_pz8eh"
      },
      "execution_count": null,
      "outputs": []
    },
    {
      "cell_type": "code",
      "execution_count": null,
      "metadata": {
        "id": "Is-5iawtEHtd"
      },
      "outputs": [],
      "source": [
        "train.isnull().sum().sum()"
      ]
    },
    {
      "cell_type": "markdown",
      "metadata": {
        "id": "c0FYDiuNkBDB"
      },
      "source": [
        "## 데이터 분리"
      ]
    },
    {
      "cell_type": "code",
      "execution_count": null,
      "metadata": {
        "id": "nOUgB80dyqAj"
      },
      "outputs": [],
      "source": [
        "train_X  = train.drop(['ID', 'Y_LABEL'], axis = 1) # 정답값 제외\n",
        "target  = train['Y_LABEL'] # 정답\n",
        "\n",
        "test = test.drop(['ID'], axis = 1) # 추론 데이터"
      ]
    },
    {
      "cell_type": "code",
      "execution_count": null,
      "metadata": {
        "id": "G9V_uWQ5au_4"
      },
      "outputs": [],
      "source": [
        "train_X"
      ]
    },
    {
      "cell_type": "markdown",
      "metadata": {
        "id": "svkt974ldhYk"
      },
      "source": [
        "# 원핫인코딩"
      ]
    },
    {
      "cell_type": "code",
      "execution_count": null,
      "metadata": {
        "id": "aL9eF8gkU_rC"
      },
      "outputs": [],
      "source": [
        "enc = OneHotEncoder()\n",
        "\n",
        "tmp = pd.DataFrame(\n",
        "    enc.fit_transform(train_X[[\"COMPONENT_ARBITRARY\",'YEAR']]).toarray(),\n",
        "    columns = enc.get_feature_names_out()\n",
        ")\n",
        "train_X = pd.concat([train_X,tmp],axis=1).drop(columns = [\"COMPONENT_ARBITRARY\",'YEAR'])\n",
        "\n",
        "tmp1 = pd.DataFrame(\n",
        "    enc.transform(test[[\"COMPONENT_ARBITRARY\",'YEAR']]).toarray(),\n",
        "    columns = enc.get_feature_names_out()\n",
        ")\n",
        "test = pd.concat([test,tmp1],axis=1).drop(columns = [\"COMPONENT_ARBITRARY\",'YEAR'])"
      ]
    },
    {
      "cell_type": "code",
      "execution_count": null,
      "metadata": {
        "id": "d-6dOU_qdUki"
      },
      "outputs": [],
      "source": [
        "train_X.shape,target.shape,test.shape"
      ]
    },
    {
      "cell_type": "markdown",
      "metadata": {
        "id": "Bkp3AEHhu_B-"
      },
      "source": [
        "## 피처 추가"
      ]
    },
    {
      "cell_type": "code",
      "execution_count": null,
      "metadata": {
        "id": "CbVIV2m8r8TT"
      },
      "outputs": [],
      "source": [
        "hp = {'max_depth': 15,\n",
        " 'min_samples_split': 2,\n",
        " 'criterion': 'entropy',\n",
        " 'max_leaf_nodes': 10,\n",
        " 'n_estimators': 495,\n",
        " 'learning_rate': 0.0943448646911196}"
      ]
    },
    {
      "cell_type": "code",
      "source": [
        "cv = KFold(n_splits=5,shuffle=True,random_state=CFG[\"SEED\"])"
      ],
      "metadata": {
        "id": "aw-kUen8xMG-"
      },
      "execution_count": null,
      "outputs": []
    },
    {
      "cell_type": "code",
      "source": [
        "score_list = []\n",
        "\n",
        "model = LGBMClassifier(random_state=CFG['SEED'],**hp,use_missing=False) # use_missing=False 결측치 옵션\n",
        "model.fit(train_X,target , eval_set = [(train_X,target)],early_stopping_rounds=50) \n",
        "\n",
        "pred = model.predict_proba(train_X)[:,1] # 1일 확률\n",
        "\n",
        "# predict = np.where(pred > 0.35, 1 , 0)\n",
        "score = cross_val_score(model,train_X,target,cv = cv ,scoring='f1_macro',n_jobs = -1)\n",
        "score_list.append(score) "
      ],
      "metadata": {
        "id": "kg_2ZVOkxDj7"
      },
      "execution_count": null,
      "outputs": []
    },
    {
      "cell_type": "code",
      "source": [
        "x_target = pred\n",
        "x_target"
      ],
      "metadata": {
        "id": "XBl53HTTxDmj"
      },
      "execution_count": null,
      "outputs": []
    },
    {
      "cell_type": "markdown",
      "metadata": {
        "id": "KmiXvzi9Cjp9"
      },
      "source": [
        "## Classifier"
      ]
    },
    {
      "cell_type": "code",
      "execution_count": null,
      "metadata": {
        "id": "u3-8o8AMDS1X"
      },
      "outputs": [],
      "source": [
        "train_X_toNum = train_X.to_numpy()"
      ]
    },
    {
      "cell_type": "code",
      "execution_count": null,
      "metadata": {
        "id": "1mljVcqeDW8e"
      },
      "outputs": [],
      "source": [
        "target_toNum = target.to_numpy()"
      ]
    },
    {
      "cell_type": "code",
      "execution_count": null,
      "metadata": {
        "id": "Mf0UY4ueDkxK"
      },
      "outputs": [],
      "source": [
        "test_toNum = test.to_numpy()"
      ]
    },
    {
      "cell_type": "code",
      "execution_count": null,
      "metadata": {
        "id": "C4uLhSSlDkzS"
      },
      "outputs": [],
      "source": [
        "class F1_Score(Metric):\n",
        "    def __init__(self):\n",
        "        self._name = \"f1\"\n",
        "        self._maximize = True\n",
        "\n",
        "    def __call__(self, y_true, y_score):\n",
        "        score = f1_score(y_true, (y_score[:, 1]>0.5)*1)\n",
        "        return score"
      ]
    },
    {
      "cell_type": "code",
      "execution_count": null,
      "metadata": {
        "id": "2dfnXB7nxjj3"
      },
      "outputs": [],
      "source": [
        "patience = 100\n",
        "max_epochs = 2000\n",
        "cv = KFold(n_splits=CFG['n_splits'], shuffle=True, random_state=CFG['SEED'])"
      ]
    },
    {
      "cell_type": "code",
      "execution_count": null,
      "metadata": {
        "id": "V8fOvKKq9Cwm"
      },
      "outputs": [],
      "source": [
        "pred_list = []\n",
        "score_list = []\n",
        "\n",
        "model = TabNetClassifier(verbose = 1,seed = CFG['SEED'],optimizer_fn=torch.optim.AdamW)\n",
        "model.fit(train_X_toNum,target_toNum ,\n",
        "          eval_set = [(train_X_toNum,target_toNum)],\n",
        "          patience=patience, max_epochs=max_epochs,\n",
        "          eval_metric=['logloss','f1'])\n",
        "\n",
        "pred = model.predict_proba(train_X_toNum)[:,1] \n",
        "\n",
        "score = cross_val_score(model,train_X_toNum,target_toNum,cv = cv ,scoring='f1_macro',n_jobs = -1)\n",
        "score_list.append(score) "
      ]
    },
    {
      "cell_type": "code",
      "execution_count": null,
      "metadata": {
        "id": "UTGc5ovF62nx"
      },
      "outputs": [],
      "source": [
        "np.mean(score_list)\n",
        "# 0.8405547354296713 tabnet\n",
        "# 0.832199100324643\n",
        "# 0.8402001798621617"
      ]
    },
    {
      "cell_type": "markdown",
      "metadata": {
        "id": "E5NXZ2NWJL14"
      },
      "source": [
        "- 확률 추출!"
      ]
    },
    {
      "cell_type": "code",
      "source": [
        "x_target = pred\n",
        "x_target"
      ],
      "metadata": {
        "id": "SSbrJ4GHqI4R"
      },
      "execution_count": null,
      "outputs": []
    },
    {
      "cell_type": "markdown",
      "metadata": {
        "id": "bOHl9sAon6tj"
      },
      "source": [
        "## Regressor"
      ]
    },
    {
      "cell_type": "markdown",
      "metadata": {
        "id": "E1uLBgdKEhtu"
      },
      "source": [
        "- train의 부분 X의 예측값을 설명하는 Regressor"
      ]
    },
    {
      "cell_type": "code",
      "execution_count": null,
      "metadata": {
        "id": "cuf_HYBIwIvm"
      },
      "outputs": [],
      "source": [
        "test_stage_features = ['ANONYMOUS_1', 'ANONYMOUS_2', 'AG', 'CO', 'CR', 'CU', 'FE', 'H2O', 'MN',\n",
        "       'MO', 'NI', 'PQINDEX', 'TI', 'V', 'V40', 'ZN',\n",
        "       'COMPONENT_ARBITRARY_COMPONENT1', 'COMPONENT_ARBITRARY_COMPONENT2',\n",
        "       'COMPONENT_ARBITRARY_COMPONENT3', 'COMPONENT_ARBITRARY_COMPONENT4',\n",
        "       'YEAR_2007', 'YEAR_2008', 'YEAR_2009', 'YEAR_2010', 'YEAR_2011',\n",
        "       'YEAR_2012', 'YEAR_2013', 'YEAR_2014', 'YEAR_2015', 'YEAR_2016',\n",
        "       'YEAR_2017', 'YEAR_2018', 'YEAR_2019', 'YEAR_2020', 'YEAR_2021',\n",
        "       'YEAR_2022']"
      ]
    },
    {
      "cell_type": "code",
      "execution_count": null,
      "metadata": {
        "id": "I8N6mqOVuouE"
      },
      "outputs": [],
      "source": [
        "train_X = pd.DataFrame(train_X_toNum,columns = train_X.columns)\n",
        "train_X"
      ]
    },
    {
      "cell_type": "code",
      "execution_count": null,
      "metadata": {
        "id": "iQ8iZytbwIsU"
      },
      "outputs": [],
      "source": [
        "train_reg = train_X[test_stage_features]\n",
        "train_reg.shape,x_target.shape"
      ]
    },
    {
      "cell_type": "code",
      "execution_count": null,
      "metadata": {
        "id": "hpjr5sLZJPkQ"
      },
      "outputs": [],
      "source": [
        "train_reg = train_reg.to_numpy()"
      ]
    },
    {
      "cell_type": "code",
      "execution_count": null,
      "metadata": {
        "id": "hsa5E2O3JPkR"
      },
      "outputs": [],
      "source": [
        "x_target = x_target.to_numpy()"
      ]
    },
    {
      "cell_type": "code",
      "execution_count": null,
      "metadata": {
        "id": "CWIN7XVPksmv"
      },
      "outputs": [],
      "source": [
        "x_target = x_target.reshape(-1, 1)"
      ]
    },
    {
      "cell_type": "code",
      "execution_count": null,
      "metadata": {
        "id": "PSEveTQVIujV"
      },
      "outputs": [],
      "source": [
        "preds = []\n",
        "score_list = []\n",
        "\n",
        "model = TabNetRegressor(verbose = 1,seed = CFG['SEED'],optimizer_fn=torch.optim.AdamW,scheduler_fn=torch.optim.lr_scheduler.ReduceLROnPlateau)\n",
        "model.fit(train_reg,x_target ,\n",
        "          eval_set = [(train_reg,x_target)],\n",
        "          patience=patience, max_epochs=max_epochs,\n",
        "          eval_metric=['mae'])\n",
        "\n",
        "score_list.append(model.best_cost)\n",
        "\n",
        "pred = model.predict(train_reg)"
      ]
    },
    {
      "cell_type": "code",
      "execution_count": null,
      "metadata": {
        "id": "EvoY6J-b3v2-"
      },
      "outputs": [],
      "source": [
        "np.mean(score_list)\n",
        "# 0.04416097\n",
        "# 0.04255434 피처 추가\n",
        "# 0.10485432\n",
        "# 0.11118152"
      ]
    },
    {
      "cell_type": "code",
      "execution_count": null,
      "metadata": {
        "id": "hzNQLerWV_pL"
      },
      "outputs": [],
      "source": [
        "pred = model.predict(test_toNum)"
      ]
    },
    {
      "cell_type": "code",
      "execution_count": null,
      "metadata": {
        "id": "DdwF89diV_g0"
      },
      "outputs": [],
      "source": [
        "pred"
      ]
    },
    {
      "cell_type": "code",
      "execution_count": null,
      "metadata": {
        "id": "j3ht8gKyyuRb"
      },
      "outputs": [],
      "source": [
        "submit = pd.read_csv('/content/drive/MyDrive/sample_submission.csv')"
      ]
    },
    {
      "cell_type": "code",
      "execution_count": null,
      "metadata": {
        "id": "UGC2cGOAw9TD"
      },
      "outputs": [],
      "source": [
        "submit.Y_LABEL = (np.where(pred > 0.15, 1, 0)) # 이것도 추후 조정해보기!"
      ]
    },
    {
      "cell_type": "code",
      "execution_count": null,
      "metadata": {
        "id": "qB_6iKhiw-0e"
      },
      "outputs": [],
      "source": [
        "submit"
      ]
    },
    {
      "cell_type": "code",
      "execution_count": null,
      "metadata": {
        "id": "0ldu94Gow-29"
      },
      "outputs": [],
      "source": [
        "submit.Y_LABEL.value_counts()\n",
        "# 0.1 445개"
      ]
    },
    {
      "cell_type": "code",
      "execution_count": null,
      "metadata": {
        "id": "hjN5sVco1Y_D"
      },
      "outputs": [],
      "source": [
        "submit.to_csv('/content/drive/MyDrive/submit.csv', index=False)"
      ]
    }
  ],
  "metadata": {
    "accelerator": "GPU",
    "colab": {
      "provenance": [],
      "authorship_tag": "ABX9TyP2aAML3xObBpoS6q3jmTrT",
      "include_colab_link": true
    },
    "gpuClass": "standard",
    "kernelspec": {
      "display_name": "Python 3",
      "name": "python3"
    },
    "language_info": {
      "name": "python"
    }
  },
  "nbformat": 4,
  "nbformat_minor": 0
}