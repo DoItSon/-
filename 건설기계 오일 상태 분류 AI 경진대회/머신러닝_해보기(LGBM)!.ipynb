{
  "cells": [
    {
      "cell_type": "markdown",
      "metadata": {
        "id": "view-in-github",
        "colab_type": "text"
      },
      "source": [
        "<a href=\"https://colab.research.google.com/github/DoItSon/Dacon/blob/main/%EA%B1%B4%EC%84%A4%EA%B8%B0%EA%B3%84%20%EC%98%A4%EC%9D%BC%20%EC%83%81%ED%83%9C%20%EB%B6%84%EB%A5%98%20AI%20%EA%B2%BD%EC%A7%84%EB%8C%80%ED%9A%8C/%EB%A8%B8%EC%8B%A0%EB%9F%AC%EB%8B%9D_%ED%95%B4%EB%B3%B4%EA%B8%B0(0_2)!.ipynb\" target=\"_parent\"><img src=\"https://colab.research.google.com/assets/colab-badge.svg\" alt=\"Open In Colab\"/></a>"
      ]
    },
    {
      "cell_type": "code",
      "execution_count": null,
      "metadata": {
        "id": "YgdtIy8Nuorh"
      },
      "outputs": [],
      "source": [
        "from sklearn.preprocessing import StandardScaler\n",
        "from sklearn.preprocessing import OneHotEncoder\n",
        "from sklearn.model_selection import train_test_split\n",
        "\n",
        "import os\n",
        "import pandas as pd\n",
        "import numpy as np\n",
        "from tqdm.auto import tqdm\n",
        "import random\n",
        "\n",
        "from sklearn.model_selection import KFold\n",
        "from sklearn.model_selection import cross_val_score\n",
        "from sklearn.metrics import f1_score\n",
        "\n",
        "from lightgbm import LGBMClassifier,plot_importance\n",
        "\n",
        "from sklearn.experimental import enable_iterative_imputer\n",
        "from sklearn.impute import IterativeImputer\n",
        "\n",
        "from sklearn.metrics import explained_variance_score, mean_absolute_error\n",
        "\n",
        "import warnings\n",
        "warnings.filterwarnings(action='ignore')"
      ]
    },
    {
      "cell_type": "code",
      "execution_count": null,
      "metadata": {
        "id": "SDjHDXlczZEC",
        "colab": {
          "base_uri": "https://localhost:8080/"
        },
        "outputId": "f088ef27-1ba1-4f2a-d2b3-c90c75e05ae0"
      },
      "outputs": [
        {
          "output_type": "stream",
          "name": "stdout",
          "text": [
            "Looking in indexes: https://pypi.org/simple, https://us-python.pkg.dev/colab-wheels/public/simple/\n",
            "Collecting optuna\n",
            "  Downloading optuna-3.0.4-py3-none-any.whl (348 kB)\n",
            "\u001b[K     |████████████████████████████████| 348 kB 4.4 MB/s \n",
            "\u001b[?25hCollecting alembic>=1.5.0\n",
            "  Downloading alembic-1.8.1-py3-none-any.whl (209 kB)\n",
            "\u001b[K     |████████████████████████████████| 209 kB 13.4 MB/s \n",
            "\u001b[?25hRequirement already satisfied: importlib-metadata<5.0.0 in /usr/local/lib/python3.8/dist-packages (from optuna) (4.13.0)\n",
            "Requirement already satisfied: numpy in /usr/local/lib/python3.8/dist-packages (from optuna) (1.21.6)\n",
            "Requirement already satisfied: tqdm in /usr/local/lib/python3.8/dist-packages (from optuna) (4.64.1)\n",
            "Requirement already satisfied: packaging>=20.0 in /usr/local/lib/python3.8/dist-packages (from optuna) (21.3)\n",
            "Requirement already satisfied: sqlalchemy>=1.3.0 in /usr/local/lib/python3.8/dist-packages (from optuna) (1.4.44)\n",
            "Collecting colorlog\n",
            "  Downloading colorlog-6.7.0-py2.py3-none-any.whl (11 kB)\n",
            "Requirement already satisfied: scipy<1.9.0,>=1.7.0 in /usr/local/lib/python3.8/dist-packages (from optuna) (1.7.3)\n",
            "Requirement already satisfied: PyYAML in /usr/local/lib/python3.8/dist-packages (from optuna) (6.0)\n",
            "Collecting cmaes>=0.8.2\n",
            "  Downloading cmaes-0.9.0-py3-none-any.whl (23 kB)\n",
            "Collecting cliff\n",
            "  Downloading cliff-4.1.0-py3-none-any.whl (81 kB)\n",
            "\u001b[K     |████████████████████████████████| 81 kB 1.4 MB/s \n",
            "\u001b[?25hCollecting Mako\n",
            "  Downloading Mako-1.2.4-py3-none-any.whl (78 kB)\n",
            "\u001b[K     |████████████████████████████████| 78 kB 1.2 MB/s \n",
            "\u001b[?25hRequirement already satisfied: importlib-resources in /usr/local/lib/python3.8/dist-packages (from alembic>=1.5.0->optuna) (5.10.0)\n",
            "Requirement already satisfied: zipp>=0.5 in /usr/local/lib/python3.8/dist-packages (from importlib-metadata<5.0.0->optuna) (3.11.0)\n",
            "Requirement already satisfied: pyparsing!=3.0.5,>=2.0.2 in /usr/local/lib/python3.8/dist-packages (from packaging>=20.0->optuna) (3.0.9)\n",
            "Requirement already satisfied: greenlet!=0.4.17 in /usr/local/lib/python3.8/dist-packages (from sqlalchemy>=1.3.0->optuna) (2.0.1)\n",
            "Requirement already satisfied: PrettyTable>=0.7.2 in /usr/local/lib/python3.8/dist-packages (from cliff->optuna) (3.5.0)\n",
            "Collecting cmd2>=1.0.0\n",
            "  Downloading cmd2-2.4.2-py3-none-any.whl (147 kB)\n",
            "\u001b[K     |████████████████████████████████| 147 kB 20.3 MB/s \n",
            "\u001b[?25hCollecting autopage>=0.4.0\n",
            "  Downloading autopage-0.5.1-py3-none-any.whl (29 kB)\n",
            "Collecting stevedore>=2.0.1\n",
            "  Downloading stevedore-4.1.1-py3-none-any.whl (50 kB)\n",
            "\u001b[K     |████████████████████████████████| 50 kB 2.0 MB/s \n",
            "\u001b[?25hRequirement already satisfied: attrs>=16.3.0 in /usr/local/lib/python3.8/dist-packages (from cmd2>=1.0.0->cliff->optuna) (22.1.0)\n",
            "Requirement already satisfied: wcwidth>=0.1.7 in /usr/local/lib/python3.8/dist-packages (from cmd2>=1.0.0->cliff->optuna) (0.2.5)\n",
            "Collecting pyperclip>=1.6\n",
            "  Downloading pyperclip-1.8.2.tar.gz (20 kB)\n",
            "Collecting pbr!=2.1.0,>=2.0.0\n",
            "  Downloading pbr-5.11.0-py2.py3-none-any.whl (112 kB)\n",
            "\u001b[K     |████████████████████████████████| 112 kB 8.7 MB/s \n",
            "\u001b[?25hRequirement already satisfied: MarkupSafe>=0.9.2 in /usr/local/lib/python3.8/dist-packages (from Mako->alembic>=1.5.0->optuna) (2.0.1)\n",
            "Building wheels for collected packages: pyperclip\n",
            "  Building wheel for pyperclip (setup.py) ... \u001b[?25l\u001b[?25hdone\n",
            "  Created wheel for pyperclip: filename=pyperclip-1.8.2-py3-none-any.whl size=11136 sha256=b78e7fb7736d516c19b17ea127e541932606d5340ccc1e9e2ff72bd4f35d9d33\n",
            "  Stored in directory: /root/.cache/pip/wheels/7f/1a/65/84ff8c386bec21fca6d220ea1f5498a0367883a78dd5ba6122\n",
            "Successfully built pyperclip\n",
            "Installing collected packages: pyperclip, pbr, stevedore, Mako, cmd2, autopage, colorlog, cmaes, cliff, alembic, optuna\n",
            "Successfully installed Mako-1.2.4 alembic-1.8.1 autopage-0.5.1 cliff-4.1.0 cmaes-0.9.0 cmd2-2.4.2 colorlog-6.7.0 optuna-3.0.4 pbr-5.11.0 pyperclip-1.8.2 stevedore-4.1.1\n"
          ]
        }
      ],
      "source": [
        "!pip install optuna"
      ]
    },
    {
      "cell_type": "code",
      "execution_count": null,
      "metadata": {
        "id": "yMpWlRFlzWYJ"
      },
      "outputs": [],
      "source": [
        "import optuna"
      ]
    },
    {
      "cell_type": "code",
      "execution_count": null,
      "metadata": {
        "colab": {
          "base_uri": "https://localhost:8080/"
        },
        "id": "osqF88dHvWOz",
        "outputId": "c5310d4c-8938-4a55-ac94-ed15f1c84e4a"
      },
      "outputs": [
        {
          "output_type": "stream",
          "name": "stdout",
          "text": [
            "Mounted at /content/drive\n"
          ]
        }
      ],
      "source": [
        "from google.colab import drive\n",
        "drive.mount('/content/drive')"
      ]
    },
    {
      "cell_type": "code",
      "execution_count": null,
      "metadata": {
        "id": "bd8gPQ0mP0cU"
      },
      "outputs": [],
      "source": [
        "DATA_PATH = \"/content/drive/MyDrive/\""
      ]
    },
    {
      "cell_type": "code",
      "execution_count": null,
      "metadata": {
        "id": "TU7N5vbvuq-z"
      },
      "outputs": [],
      "source": [
        "train = pd.read_csv(f'{DATA_PATH}train.csv')\n",
        "test = pd.read_csv(f'{DATA_PATH}test.csv')"
      ]
    },
    {
      "cell_type": "code",
      "execution_count": null,
      "metadata": {
        "id": "r7SdMupLqn1U"
      },
      "outputs": [],
      "source": [
        "categorical_features_enc = ['COMPONENT_ARBITRARY_COMPONENT1',\n",
        "       'COMPONENT_ARBITRARY_COMPONENT2', 'COMPONENT_ARBITRARY_COMPONENT3',\n",
        "       'COMPONENT_ARBITRARY_COMPONENT4', 'YEAR_2007', 'YEAR_2008', 'YEAR_2009',\n",
        "       'YEAR_2010', 'YEAR_2011', 'YEAR_2012', 'YEAR_2013', 'YEAR_2014',\n",
        "       'YEAR_2015', 'YEAR_2016', 'YEAR_2017', 'YEAR_2018', 'YEAR_2019',\n",
        "       'YEAR_2020', 'YEAR_2021', 'YEAR_2022']"
      ]
    },
    {
      "cell_type": "markdown",
      "metadata": {
        "id": "fT4y7j-0eFEK"
      },
      "source": [
        "## 전처리"
      ]
    },
    {
      "cell_type": "code",
      "execution_count": null,
      "metadata": {
        "id": "cuVl-N5cvnXH"
      },
      "outputs": [],
      "source": [
        "CFG = {\n",
        "    'n_splits':5,\n",
        "    'SEED':42\n",
        "}"
      ]
    },
    {
      "cell_type": "markdown",
      "metadata": {
        "id": "6WjsBSRfLQ09"
      },
      "source": [
        "- 내가 직접한 결측치"
      ]
    },
    {
      "cell_type": "markdown",
      "source": [
        "- 머신러닝"
      ],
      "metadata": {
        "id": "1PGSDgZWytig"
      }
    },
    {
      "cell_type": "code",
      "source": [
        "cols = ['CD','FOPTIMETHGLY',\"FUEL\",'K','U100','U75','U50',\"FH2O\",\"FNOX\",\"FOXID\",\"FSO4\",\"FTBN\",\"SOOTPERCENTAGE\",\"U25\",\"U20\",\"U14\",\"U6\",\"U4\",\"V100\"]"
      ],
      "metadata": {
        "id": "gf1AxtpezdVR"
      },
      "execution_count": null,
      "outputs": []
    },
    {
      "cell_type": "code",
      "source": [
        "for i in cols:\n",
        "    imputer = IterativeImputer(estimator =  lgb.LGBMRegressor(),random_state=CFG[\"SEED\"])\n",
        "    train[i] = imputer.fit_transform(train[[i]])"
      ],
      "metadata": {
        "id": "nq5B3T9zytCK"
      },
      "execution_count": null,
      "outputs": []
    },
    {
      "cell_type": "code",
      "execution_count": null,
      "metadata": {
        "id": "Is-5iawtEHtd"
      },
      "outputs": [],
      "source": [
        "train.isnull().sum().sum()"
      ]
    },
    {
      "cell_type": "code",
      "source": [
        "train.columns"
      ],
      "metadata": {
        "id": "FQqw43210Mzl"
      },
      "execution_count": null,
      "outputs": []
    },
    {
      "cell_type": "markdown",
      "source": [
        "## 피처추가\n",
        "- 점수가 떨어져서 피처추가 안함!"
      ],
      "metadata": {
        "id": "e4wLJgSZNmRA"
      }
    },
    {
      "cell_type": "markdown",
      "metadata": {
        "id": "c0FYDiuNkBDB"
      },
      "source": [
        "## 데이터 분리"
      ]
    },
    {
      "cell_type": "code",
      "execution_count": null,
      "metadata": {
        "id": "nOUgB80dyqAj"
      },
      "outputs": [],
      "source": [
        "train_X  = train.drop(['ID', 'Y_LABEL'], axis = 1) # 정답값 제외\n",
        "target  = train['Y_LABEL'] # 정답\n",
        "\n",
        "test = test.drop(['ID'], axis = 1) # 추론 데이터"
      ]
    },
    {
      "cell_type": "code",
      "execution_count": null,
      "metadata": {
        "id": "G9V_uWQ5au_4"
      },
      "outputs": [],
      "source": [
        "train_X"
      ]
    },
    {
      "cell_type": "markdown",
      "metadata": {
        "id": "svkt974ldhYk"
      },
      "source": [
        "# 원핫인코딩"
      ]
    },
    {
      "cell_type": "code",
      "execution_count": null,
      "metadata": {
        "id": "aL9eF8gkU_rC"
      },
      "outputs": [],
      "source": [
        "enc = OneHotEncoder()\n",
        "\n",
        "tmp = pd.DataFrame(\n",
        "    enc.fit_transform(train_X[[\"COMPONENT_ARBITRARY\",'YEAR']]).toarray(),\n",
        "    columns = enc.get_feature_names_out()\n",
        ")\n",
        "train_X = pd.concat([train_X,tmp],axis=1).drop(columns = [\"COMPONENT_ARBITRARY\",'YEAR'])\n",
        "\n",
        "tmp1 = pd.DataFrame(\n",
        "    enc.transform(test[[\"COMPONENT_ARBITRARY\",'YEAR']]).toarray(),\n",
        "    columns = enc.get_feature_names_out()\n",
        ")\n",
        "test = pd.concat([test,tmp1],axis=1).drop(columns = [\"COMPONENT_ARBITRARY\",'YEAR'])"
      ]
    },
    {
      "cell_type": "code",
      "execution_count": null,
      "metadata": {
        "id": "d-6dOU_qdUki"
      },
      "outputs": [],
      "source": [
        "train_X.shape,target.shape,test.shape"
      ]
    },
    {
      "cell_type": "markdown",
      "metadata": {
        "id": "ne57xpNZdoIf"
      },
      "source": [
        "# 스케일링"
      ]
    },
    {
      "cell_type": "code",
      "execution_count": null,
      "metadata": {
        "id": "uBVpIfnBlG6a"
      },
      "outputs": [],
      "source": [
        "def get_values(value):\n",
        "    return value.values.reshape(-1, 1)\n",
        "\n",
        "for col in train_X.columns:\n",
        "    if col not in categorical_features_enc:\n",
        "        scaler = StandardScaler()\n",
        "        train_X[col] = scaler.fit_transform(get_values(train_X[col]))\n",
        "        if col in test.columns:\n",
        "            test[col] = scaler.transform(get_values(test[col]))"
      ]
    },
    {
      "cell_type": "markdown",
      "metadata": {
        "id": "KmiXvzi9Cjp9"
      },
      "source": [
        "## Classifier"
      ]
    },
    {
      "cell_type": "code",
      "execution_count": null,
      "metadata": {
        "id": "BhBF2kbDMcft"
      },
      "outputs": [],
      "source": [
        "# def objective_1(trial):\n",
        "#     hp = {\n",
        "#         \"max_depth\" : trial.suggest_int(\"max_depth\",2,15), # 찾을 범위의 최소값과 최대값\n",
        "#         \"min_samples_split\" : trial.suggest_int(\"min_samples_split\",2,10),\n",
        "#         \"criterion\" : trial.suggest_categorical(\"criterion\",[\"gini\",\"entropy\"]),\n",
        "#         \"max_leaf_nodes\" : trial.suggest_int(\"max_leaf_nodes\",5,10),\n",
        "#         \"n_estimators\" : trial.suggest_int(\"n_estimators\",10,500),\n",
        "#         \"learning_rate\" : trial.suggest_float(\"learning_rate\",0.01,0.1)\n",
        "#     }\n",
        "#     cv = KFold(n_splits=5,shuffle=True,random_state=CFG['SEED'])\n",
        "#     model = LGBMClassifier(random_state=CFG['SEED'],**hp)\n",
        "\n",
        "#     scores = cross_val_score(model, train_X, target,cv=cv, scoring=\"f1_macro\") # cv=cv 지움!\n",
        "#     return np.mean(scores)"
      ]
    },
    {
      "cell_type": "code",
      "execution_count": null,
      "metadata": {
        "id": "hvqQZVMxMcdR"
      },
      "outputs": [],
      "source": [
        "# sampler = optuna.samplers.TPESampler(seed = CFG['SEED']) \n",
        "\n",
        "# study_1 = optuna.create_study(\n",
        "#     direction= \"maximize\", \n",
        "#     sampler = sampler\n",
        "# )\n",
        "\n",
        "# study_1.optimize(objective_1,n_trials=50)"
      ]
    },
    {
      "cell_type": "code",
      "execution_count": null,
      "metadata": {
        "id": "NifIIY0tNvpE"
      },
      "outputs": [],
      "source": [
        "# print(\"Best Score:\",study_1.best_value) \n",
        "# print(\"Best hp\", study_1.best_params)"
      ]
    },
    {
      "cell_type": "code",
      "execution_count": null,
      "metadata": {
        "id": "bq6-fPoDNvmG"
      },
      "outputs": [],
      "source": [
        "# study_1.best_params # 따로 적어놓기"
      ]
    },
    {
      "cell_type": "code",
      "source": [
        "hp = {'max_depth': 15,\n",
        " 'min_samples_split': 2,\n",
        " 'criterion': 'entropy',\n",
        " 'max_leaf_nodes': 10,\n",
        " 'n_estimators': 495,\n",
        " 'learning_rate': 0.0943448646911196}"
      ],
      "metadata": {
        "id": "n01n0MZhfIHk"
      },
      "execution_count": null,
      "outputs": []
    },
    {
      "cell_type": "code",
      "source": [
        "cv = KFold(n_splits=5,shuffle=True,random_state=CFG[\"SEED\"])"
      ],
      "metadata": {
        "id": "9iovF5cjakRP"
      },
      "execution_count": null,
      "outputs": []
    },
    {
      "cell_type": "code",
      "execution_count": null,
      "metadata": {
        "id": "je-x0Su4__en"
      },
      "outputs": [],
      "source": [
        "score_list = []\n",
        "\n",
        "model = LGBMClassifier(random_state=CFG['SEED'],**hp) # use_missing=False 결측치 옵션\n",
        "model.fit(train_X,target , eval_set = [(train_X,target)],early_stopping_rounds=50) \n",
        "\n",
        "pred = model.predict_proba(train_X)[:,1] \n",
        "\n",
        "score = cross_val_score(model,train_X,target,cv = cv ,scoring='f1_macro',n_jobs = -1)\n",
        "score_list.append(score) "
      ]
    },
    {
      "cell_type": "markdown",
      "source": [
        "## 특성 중요도 확인하기"
      ],
      "metadata": {
        "id": "E0UlpG-gK8qF"
      }
    },
    {
      "cell_type": "code",
      "source": [
        "import matplotlib.pyplot as plt\n",
        "\n",
        "fig, ax = plt.subplots(figsize=(40,20))\n",
        "plot_importance(model,ax=ax)\n",
        "plt.show()"
      ],
      "metadata": {
        "id": "AYOwAqPEHxZ2"
      },
      "execution_count": null,
      "outputs": []
    },
    {
      "cell_type": "code",
      "source": [
        "np.mean(score_list)"
      ],
      "metadata": {
        "id": "BVl5IlVkf54z"
      },
      "execution_count": null,
      "outputs": []
    },
    {
      "cell_type": "markdown",
      "metadata": {
        "id": "E5NXZ2NWJL14"
      },
      "source": [
        "- 확률!!!"
      ]
    },
    {
      "cell_type": "code",
      "source": [
        "x_target = pred\n",
        "x_target"
      ],
      "metadata": {
        "id": "EM-g8KpXYEC6"
      },
      "execution_count": null,
      "outputs": []
    },
    {
      "cell_type": "markdown",
      "metadata": {
        "id": "bOHl9sAon6tj"
      },
      "source": [
        "## Regressor"
      ]
    },
    {
      "cell_type": "markdown",
      "metadata": {
        "id": "E1uLBgdKEhtu"
      },
      "source": [
        "- train의 부분 X의 예측값을 설명하는 Regressor"
      ]
    },
    {
      "cell_type": "code",
      "execution_count": null,
      "metadata": {
        "id": "cuf_HYBIwIvm"
      },
      "outputs": [],
      "source": [
        "test_stage_features = ['ANONYMOUS_1', 'ANONYMOUS_2', 'AG', 'CO', 'CR', 'CU', 'FE', 'H2O', 'MN',\n",
        "       'MO', 'NI', 'PQINDEX', 'TI', 'V', 'V40', 'ZN',\n",
        "       'COMPONENT_ARBITRARY_COMPONENT1', 'COMPONENT_ARBITRARY_COMPONENT2',\n",
        "       'COMPONENT_ARBITRARY_COMPONENT3', 'COMPONENT_ARBITRARY_COMPONENT4',\n",
        "       'YEAR_2007', 'YEAR_2008', 'YEAR_2009', 'YEAR_2010', 'YEAR_2011',\n",
        "       'YEAR_2012', 'YEAR_2013', 'YEAR_2014', 'YEAR_2015', 'YEAR_2016',\n",
        "       'YEAR_2017', 'YEAR_2018', 'YEAR_2019', 'YEAR_2020', 'YEAR_2021',\n",
        "       'YEAR_2022']"
      ]
    },
    {
      "cell_type": "code",
      "execution_count": null,
      "metadata": {
        "id": "iQ8iZytbwIsU"
      },
      "outputs": [],
      "source": [
        "train_reg = train_X[test_stage_features]\n",
        "train_reg.shape,x_target.shape"
      ]
    },
    {
      "cell_type": "code",
      "execution_count": null,
      "metadata": {
        "id": "9LSr_znyjyfN"
      },
      "outputs": [],
      "source": [
        "# from lightgbm.sklearn import LGBMRegressor\n",
        "# def objective_2(trial):\n",
        "#     hp = {\n",
        "#         \"max_depth\" : trial.suggest_int(\"max_depth\",2,15), # 찾을 범위의 최소값과 최대값\n",
        "#         \"min_samples_split\" : trial.suggest_int(\"min_samples_split\",2,10),\n",
        "#         \"criterion\" : trial.suggest_categorical(\"criterion\",[\"gini\",\"entropy\"]),\n",
        "#         \"max_leaf_nodes\" : trial.suggest_int(\"max_leaf_nodes\",5,10),\n",
        "#         \"n_estimators\" : trial.suggest_int(\"n_estimators\",10,500),\n",
        "#         \"learning_rate\" : trial.suggest_float(\"learning_rate\",0.01,0.1)\n",
        "#     }\n",
        "#     cv = KFold(n_splits=5,shuffle=True,random_state=CFG['SEED'])\n",
        "#     model = LGBMRegressor(random_state=CFG['SEED'],**hp)\n",
        "\n",
        "#     scores = cross_val_score(model, train_reg, x_target,cv=cv ,scoring=\"neg_mean_absolute_error\") # cv=cv 지움!\n",
        "#     return np.mean(scores)"
      ]
    },
    {
      "cell_type": "code",
      "execution_count": null,
      "metadata": {
        "id": "4AMapzk3jyfO"
      },
      "outputs": [],
      "source": [
        "# sampler = optuna.samplers.TPESampler(seed = CFG['SEED']) \n",
        "\n",
        "# study_1 = optuna.create_study(\n",
        "#     direction= \"maximize\", \n",
        "#     sampler = sampler\n",
        "# )\n",
        "\n",
        "# study_1.optimize(objective_2,n_trials=50)"
      ]
    },
    {
      "cell_type": "code",
      "execution_count": null,
      "metadata": {
        "id": "FrbmnhImjyfQ"
      },
      "outputs": [],
      "source": [
        "# print(\"Best Score:\",study_1.best_value) \n",
        "# print(\"Best hp\", study_1.best_params)"
      ]
    },
    {
      "cell_type": "code",
      "execution_count": null,
      "metadata": {
        "id": "41rXZ_5WjyfQ"
      },
      "outputs": [],
      "source": [
        "# study_1.best_params # 따로 적어놓기"
      ]
    },
    {
      "cell_type": "code",
      "source": [
        "hp3 = {'max_depth': 15,\n",
        " 'min_samples_split': 8,\n",
        " 'criterion': 'gini',\n",
        " 'max_leaf_nodes': 8,\n",
        " 'n_estimators': 407,\n",
        " 'learning_rate': 0.02281424026216031}"
      ],
      "metadata": {
        "id": "V79P7VRnJBxl"
      },
      "execution_count": null,
      "outputs": []
    },
    {
      "cell_type": "code",
      "source": [
        "score_list= []\n",
        "model = lgb.LGBMRegressor(random_state=CFG['SEED'],**hp3)\n",
        "model.fit(train_reg,x_target, eval_set = [(train_reg,x_target)],early_stopping_rounds=50) \n",
        "\n",
        "pred = model.predict(train_reg)\n",
        "\n",
        "score = -1*cross_val_score(model, train_reg, pred,cv=cv ,scoring=\"neg_mean_absolute_error\") # cv=cv 지움! # 내가 예측한 값과 실제값의 차이를 계산한 score\n",
        "score_list.append(score)"
      ],
      "metadata": {
        "id": "kg3R67AIiSO5"
      },
      "execution_count": null,
      "outputs": []
    },
    {
      "cell_type": "code",
      "source": [
        "import matplotlib.pyplot as plt\n",
        "\n",
        "fig, ax = plt.subplots(figsize=(40,20))\n",
        "plot_importance(model,ax=ax)\n",
        "plt.show()"
      ],
      "metadata": {
        "id": "yGnkD67RT9RL"
      },
      "execution_count": null,
      "outputs": []
    },
    {
      "cell_type": "code",
      "source": [
        "np.mean(score_list)"
      ],
      "metadata": {
        "id": "cFZEGo_7iYkx"
      },
      "execution_count": null,
      "outputs": []
    },
    {
      "cell_type": "markdown",
      "metadata": {
        "id": "YPrxuIioDQup"
      },
      "source": [
        "### test의 shape과 맞춘 후 test에 적합"
      ]
    },
    {
      "cell_type": "code",
      "source": [
        "pred = model.predict(test)"
      ],
      "metadata": {
        "id": "Y04bwWvPL8PJ"
      },
      "execution_count": null,
      "outputs": []
    },
    {
      "cell_type": "code",
      "source": [
        "y_pred = pred"
      ],
      "metadata": {
        "id": "fU7keYtnKsIL"
      },
      "execution_count": null,
      "outputs": []
    },
    {
      "cell_type": "code",
      "source": [
        "pred"
      ],
      "metadata": {
        "id": "H4DXm53nXafT"
      },
      "execution_count": null,
      "outputs": []
    },
    {
      "cell_type": "markdown",
      "source": [
        "# 산술평균 앙상블"
      ],
      "metadata": {
        "id": "GhnuSHZQbozx"
      }
    },
    {
      "cell_type": "code",
      "source": [
        "np.save(f\"{DATA_PATH}/LGBM\",pred)"
      ],
      "metadata": {
        "id": "JMKuh652W1XX"
      },
      "execution_count": null,
      "outputs": []
    },
    {
      "cell_type": "code",
      "source": [
        "pred_1 = np.load(f\"{DATA_PATH}/XGB.npy\")\n",
        "pred_2 = np.load(f\"{DATA_PATH}/LGBM.npy\")\n",
        "pred_3 = np.load(f\"{DATA_PATH}/CAT.npy\")"
      ],
      "metadata": {
        "id": "8V6ht5flZETl"
      },
      "execution_count": null,
      "outputs": []
    },
    {
      "cell_type": "code",
      "source": [
        "pred_list = pred_1, pred_1, pred_3"
      ],
      "metadata": {
        "id": "QwCnOOa2Z9mY"
      },
      "execution_count": null,
      "outputs": []
    },
    {
      "cell_type": "code",
      "source": [
        "pred = np.mean(pred_list,axis=0)\n",
        "pred.shape"
      ],
      "metadata": {
        "colab": {
          "base_uri": "https://localhost:8080/"
        },
        "id": "oO_z5XP_ZEWK",
        "outputId": "3abb9a63-426b-4d20-d3db-82fabecb3e31"
      },
      "execution_count": null,
      "outputs": [
        {
          "output_type": "execute_result",
          "data": {
            "text/plain": [
              "(6041,)"
            ]
          },
          "metadata": {},
          "execution_count": 27
        }
      ]
    },
    {
      "cell_type": "code",
      "source": [
        "y_pred = pred"
      ],
      "metadata": {
        "id": "sFjpplvbZEZr"
      },
      "execution_count": null,
      "outputs": []
    },
    {
      "cell_type": "code",
      "execution_count": null,
      "metadata": {
        "id": "j3ht8gKyyuRb"
      },
      "outputs": [],
      "source": [
        "submit = pd.read_csv('/content/drive/MyDrive/sample_submission.csv')"
      ]
    },
    {
      "cell_type": "code",
      "source": [
        "submit.Y_LABEL = pd.Series(np.where(y_pred > 0.2, 1, 0)) # 이것도 추후 조정해보기!"
      ],
      "metadata": {
        "id": "UGC2cGOAw9TD"
      },
      "execution_count": null,
      "outputs": []
    },
    {
      "cell_type": "code",
      "source": [
        "submit"
      ],
      "metadata": {
        "id": "qB_6iKhiw-0e",
        "colab": {
          "base_uri": "https://localhost:8080/",
          "height": 424
        },
        "outputId": "32ff7c2c-7939-46a6-caca-dab502442f3c"
      },
      "execution_count": null,
      "outputs": [
        {
          "output_type": "execute_result",
          "data": {
            "text/plain": [
              "             ID  Y_LABEL\n",
              "0     TEST_0000        0\n",
              "1     TEST_0001        0\n",
              "2     TEST_0002        0\n",
              "3     TEST_0003        0\n",
              "4     TEST_0004        0\n",
              "...         ...      ...\n",
              "6036  TEST_6036        0\n",
              "6037  TEST_6037        0\n",
              "6038  TEST_6038        0\n",
              "6039  TEST_6039        0\n",
              "6040  TEST_6040        0\n",
              "\n",
              "[6041 rows x 2 columns]"
            ],
            "text/html": [
              "\n",
              "  <div id=\"df-7a29cf85-0d21-4fc1-8434-461b34d490c4\">\n",
              "    <div class=\"colab-df-container\">\n",
              "      <div>\n",
              "<style scoped>\n",
              "    .dataframe tbody tr th:only-of-type {\n",
              "        vertical-align: middle;\n",
              "    }\n",
              "\n",
              "    .dataframe tbody tr th {\n",
              "        vertical-align: top;\n",
              "    }\n",
              "\n",
              "    .dataframe thead th {\n",
              "        text-align: right;\n",
              "    }\n",
              "</style>\n",
              "<table border=\"1\" class=\"dataframe\">\n",
              "  <thead>\n",
              "    <tr style=\"text-align: right;\">\n",
              "      <th></th>\n",
              "      <th>ID</th>\n",
              "      <th>Y_LABEL</th>\n",
              "    </tr>\n",
              "  </thead>\n",
              "  <tbody>\n",
              "    <tr>\n",
              "      <th>0</th>\n",
              "      <td>TEST_0000</td>\n",
              "      <td>0</td>\n",
              "    </tr>\n",
              "    <tr>\n",
              "      <th>1</th>\n",
              "      <td>TEST_0001</td>\n",
              "      <td>0</td>\n",
              "    </tr>\n",
              "    <tr>\n",
              "      <th>2</th>\n",
              "      <td>TEST_0002</td>\n",
              "      <td>0</td>\n",
              "    </tr>\n",
              "    <tr>\n",
              "      <th>3</th>\n",
              "      <td>TEST_0003</td>\n",
              "      <td>0</td>\n",
              "    </tr>\n",
              "    <tr>\n",
              "      <th>4</th>\n",
              "      <td>TEST_0004</td>\n",
              "      <td>0</td>\n",
              "    </tr>\n",
              "    <tr>\n",
              "      <th>...</th>\n",
              "      <td>...</td>\n",
              "      <td>...</td>\n",
              "    </tr>\n",
              "    <tr>\n",
              "      <th>6036</th>\n",
              "      <td>TEST_6036</td>\n",
              "      <td>0</td>\n",
              "    </tr>\n",
              "    <tr>\n",
              "      <th>6037</th>\n",
              "      <td>TEST_6037</td>\n",
              "      <td>0</td>\n",
              "    </tr>\n",
              "    <tr>\n",
              "      <th>6038</th>\n",
              "      <td>TEST_6038</td>\n",
              "      <td>0</td>\n",
              "    </tr>\n",
              "    <tr>\n",
              "      <th>6039</th>\n",
              "      <td>TEST_6039</td>\n",
              "      <td>0</td>\n",
              "    </tr>\n",
              "    <tr>\n",
              "      <th>6040</th>\n",
              "      <td>TEST_6040</td>\n",
              "      <td>0</td>\n",
              "    </tr>\n",
              "  </tbody>\n",
              "</table>\n",
              "<p>6041 rows × 2 columns</p>\n",
              "</div>\n",
              "      <button class=\"colab-df-convert\" onclick=\"convertToInteractive('df-7a29cf85-0d21-4fc1-8434-461b34d490c4')\"\n",
              "              title=\"Convert this dataframe to an interactive table.\"\n",
              "              style=\"display:none;\">\n",
              "        \n",
              "  <svg xmlns=\"http://www.w3.org/2000/svg\" height=\"24px\"viewBox=\"0 0 24 24\"\n",
              "       width=\"24px\">\n",
              "    <path d=\"M0 0h24v24H0V0z\" fill=\"none\"/>\n",
              "    <path d=\"M18.56 5.44l.94 2.06.94-2.06 2.06-.94-2.06-.94-.94-2.06-.94 2.06-2.06.94zm-11 1L8.5 8.5l.94-2.06 2.06-.94-2.06-.94L8.5 2.5l-.94 2.06-2.06.94zm10 10l.94 2.06.94-2.06 2.06-.94-2.06-.94-.94-2.06-.94 2.06-2.06.94z\"/><path d=\"M17.41 7.96l-1.37-1.37c-.4-.4-.92-.59-1.43-.59-.52 0-1.04.2-1.43.59L10.3 9.45l-7.72 7.72c-.78.78-.78 2.05 0 2.83L4 21.41c.39.39.9.59 1.41.59.51 0 1.02-.2 1.41-.59l7.78-7.78 2.81-2.81c.8-.78.8-2.07 0-2.86zM5.41 20L4 18.59l7.72-7.72 1.47 1.35L5.41 20z\"/>\n",
              "  </svg>\n",
              "      </button>\n",
              "      \n",
              "  <style>\n",
              "    .colab-df-container {\n",
              "      display:flex;\n",
              "      flex-wrap:wrap;\n",
              "      gap: 12px;\n",
              "    }\n",
              "\n",
              "    .colab-df-convert {\n",
              "      background-color: #E8F0FE;\n",
              "      border: none;\n",
              "      border-radius: 50%;\n",
              "      cursor: pointer;\n",
              "      display: none;\n",
              "      fill: #1967D2;\n",
              "      height: 32px;\n",
              "      padding: 0 0 0 0;\n",
              "      width: 32px;\n",
              "    }\n",
              "\n",
              "    .colab-df-convert:hover {\n",
              "      background-color: #E2EBFA;\n",
              "      box-shadow: 0px 1px 2px rgba(60, 64, 67, 0.3), 0px 1px 3px 1px rgba(60, 64, 67, 0.15);\n",
              "      fill: #174EA6;\n",
              "    }\n",
              "\n",
              "    [theme=dark] .colab-df-convert {\n",
              "      background-color: #3B4455;\n",
              "      fill: #D2E3FC;\n",
              "    }\n",
              "\n",
              "    [theme=dark] .colab-df-convert:hover {\n",
              "      background-color: #434B5C;\n",
              "      box-shadow: 0px 1px 3px 1px rgba(0, 0, 0, 0.15);\n",
              "      filter: drop-shadow(0px 1px 2px rgba(0, 0, 0, 0.3));\n",
              "      fill: #FFFFFF;\n",
              "    }\n",
              "  </style>\n",
              "\n",
              "      <script>\n",
              "        const buttonEl =\n",
              "          document.querySelector('#df-7a29cf85-0d21-4fc1-8434-461b34d490c4 button.colab-df-convert');\n",
              "        buttonEl.style.display =\n",
              "          google.colab.kernel.accessAllowed ? 'block' : 'none';\n",
              "\n",
              "        async function convertToInteractive(key) {\n",
              "          const element = document.querySelector('#df-7a29cf85-0d21-4fc1-8434-461b34d490c4');\n",
              "          const dataTable =\n",
              "            await google.colab.kernel.invokeFunction('convertToInteractive',\n",
              "                                                     [key], {});\n",
              "          if (!dataTable) return;\n",
              "\n",
              "          const docLinkHtml = 'Like what you see? Visit the ' +\n",
              "            '<a target=\"_blank\" href=https://colab.research.google.com/notebooks/data_table.ipynb>data table notebook</a>'\n",
              "            + ' to learn more about interactive tables.';\n",
              "          element.innerHTML = '';\n",
              "          dataTable['output_type'] = 'display_data';\n",
              "          await google.colab.output.renderOutput(dataTable, element);\n",
              "          const docLink = document.createElement('div');\n",
              "          docLink.innerHTML = docLinkHtml;\n",
              "          element.appendChild(docLink);\n",
              "        }\n",
              "      </script>\n",
              "    </div>\n",
              "  </div>\n",
              "  "
            ]
          },
          "metadata": {},
          "execution_count": 45
        }
      ]
    },
    {
      "cell_type": "code",
      "source": [
        "submit.Y_LABEL.value_counts()"
      ],
      "metadata": {
        "id": "0ldu94Gow-29",
        "colab": {
          "base_uri": "https://localhost:8080/"
        },
        "outputId": "d644a48b-26b1-43a5-9add-da1e07dea523"
      },
      "execution_count": null,
      "outputs": [
        {
          "output_type": "execute_result",
          "data": {
            "text/plain": [
              "0    5721\n",
              "1     320\n",
              "Name: Y_LABEL, dtype: int64"
            ]
          },
          "metadata": {},
          "execution_count": 46
        }
      ]
    },
    {
      "cell_type": "code",
      "execution_count": null,
      "metadata": {
        "id": "hjN5sVco1Y_D"
      },
      "outputs": [],
      "source": [
        "submit.to_csv('/content/drive/MyDrive/submit.csv', index=False)"
      ]
    },
    {
      "cell_type": "markdown",
      "source": [
        "# 하드보팅"
      ],
      "metadata": {
        "id": "KiGT7rvnyvRQ"
      }
    },
    {
      "cell_type": "code",
      "source": [
        "voting1 = pd.read_csv(f'{DATA_PATH}LGBM (0.2).csv')\n",
        "voting2 = pd.read_csv(f'{DATA_PATH}CAT(0.2).csv')\n",
        "voting3 = pd.read_csv(f'{DATA_PATH}XGB 0.2.csv')"
      ],
      "metadata": {
        "id": "N0lFr9J2yvW_"
      },
      "execution_count": null,
      "outputs": []
    },
    {
      "cell_type": "code",
      "source": [
        "target_dict = {'review1': voting1['Y_LABEL'], 'review2': voting2['Y_LABEL'], 'review3': voting3['Y_LABEL']}\n",
        "df_ensemble = pd.DataFrame(target_dict)\n",
        "df_ensemble"
      ],
      "metadata": {
        "id": "hF_Aa7RuyvZn"
      },
      "execution_count": null,
      "outputs": []
    },
    {
      "cell_type": "code",
      "source": [
        "from collections import Counter\n",
        "def ensemble_data(data):\n",
        "    # 1. 매열마다 모든 값을 Count, 가장 많은 빈도의 값을 추출.\n",
        "    result_list = []\n",
        "    for i in range(len(data)):\n",
        "        frequent_value = data.iloc[i].value_counts().idxmax()\n",
        "        result_list.append(frequent_value)\n",
        "    return pd.DataFrame({'Y_LABEL':result_list})"
      ],
      "metadata": {
        "id": "JWFZVsuSyvbp"
      },
      "execution_count": null,
      "outputs": []
    },
    {
      "cell_type": "code",
      "source": [
        "result = ensemble_data(df_ensemble)\n",
        "result "
      ],
      "metadata": {
        "id": "td2_4RoBils-"
      },
      "execution_count": null,
      "outputs": []
    },
    {
      "cell_type": "code",
      "source": [
        "result.Y_LABEL.value_counts()"
      ],
      "metadata": {
        "id": "nhj1fabUi-Hl"
      },
      "execution_count": null,
      "outputs": []
    },
    {
      "cell_type": "code",
      "source": [
        "submit = pd.read_csv('/content/drive/MyDrive/sample_submission.csv')\n",
        "submit[\"Y_LABEL\"] = result\n",
        "submit.to_csv('/content/drive/MyDrive/submit.csv', index=False)\n",
        "submit"
      ],
      "metadata": {
        "id": "zUTxtxw9yvdd"
      },
      "execution_count": null,
      "outputs": []
    },
    {
      "cell_type": "code",
      "source": [
        "result.Y_LABEL.value_counts()"
      ],
      "metadata": {
        "id": "Ie3cnHHViVaA"
      },
      "execution_count": null,
      "outputs": []
    }
  ],
  "metadata": {
    "colab": {
      "provenance": [],
      "collapsed_sections": [
        "e4wLJgSZNmRA",
        "c0FYDiuNkBDB",
        "KmiXvzi9Cjp9",
        "E0UlpG-gK8qF",
        "bOHl9sAon6tj",
        "YPrxuIioDQup"
      ],
      "authorship_tag": "ABX9TyP86wO4XA9E9uxwdOQR46mP",
      "include_colab_link": true
    },
    "gpuClass": "standard",
    "kernelspec": {
      "display_name": "Python 3",
      "name": "python3"
    },
    "language_info": {
      "name": "python"
    }
  },
  "nbformat": 4,
  "nbformat_minor": 0
}
